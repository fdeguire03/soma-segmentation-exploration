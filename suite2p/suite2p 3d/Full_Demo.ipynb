{
 "cells": [
  {
   "attachments": {},
   "cell_type": "markdown",
   "id": "6538132a",
   "metadata": {},
   "source": [
    "### Import Libraries"
   ]
  },
  {
   "cell_type": "code",
   "execution_count": 1,
   "id": "25226c90",
   "metadata": {},
   "outputs": [
    {
     "name": "stdout",
     "output_type": "stream",
     "text": [
      "Obtaining file:///mnt/lab/users/maxgagnon/src/s2p-lbm/suite2p\n",
      "  Preparing metadata (setup.py) ... \u001b[?25ldone\n",
      "\u001b[?25hRequirement already satisfied: importlib-metadata in /usr/local/lib/python3.9/site-packages (from suite2p==0.10.4.dev65+gabd1f66.d20240306) (6.8.0)\n",
      "Requirement already satisfied: natsort in /usr/local/lib/python3.9/site-packages (from suite2p==0.10.4.dev65+gabd1f66.d20240306) (8.4.0)\n",
      "Requirement already satisfied: tifffile in /usr/local/lib/python3.9/site-packages (from suite2p==0.10.4.dev65+gabd1f66.d20240306) (2023.7.10)\n",
      "Requirement already satisfied: scanimage-tiff-reader>=1.4.1 in /usr/local/lib/python3.9/site-packages (from suite2p==0.10.4.dev65+gabd1f66.d20240306) (1.4.1.3)\n",
      "Requirement already satisfied: torch>=1.7.1 in /usr/local/lib/python3.9/site-packages (from suite2p==0.10.4.dev65+gabd1f66.d20240306) (2.0.1)\n",
      "Requirement already satisfied: paramiko in /usr/local/lib/python3.9/site-packages (from suite2p==0.10.4.dev65+gabd1f66.d20240306) (3.2.0)\n",
      "Requirement already satisfied: numpy>=1.16 in /usr/local/lib/python3.9/site-packages (from suite2p==0.10.4.dev65+gabd1f66.d20240306) (1.24.4)\n",
      "Requirement already satisfied: numba>=0.43.1 in /usr/local/lib/python3.9/site-packages (from suite2p==0.10.4.dev65+gabd1f66.d20240306) (0.57.1)\n",
      "Requirement already satisfied: matplotlib in /usr/local/lib/python3.9/site-packages (from suite2p==0.10.4.dev65+gabd1f66.d20240306) (3.7.2)\n",
      "Requirement already satisfied: scipy>=1.4.0 in /usr/local/lib/python3.9/site-packages (from suite2p==0.10.4.dev65+gabd1f66.d20240306) (1.11.1)\n",
      "Requirement already satisfied: sbxreader in /usr/local/lib/python3.9/site-packages (from suite2p==0.10.4.dev65+gabd1f66.d20240306) (0.2.2)\n",
      "Requirement already satisfied: scikit-learn in /usr/local/lib/python3.9/site-packages (from suite2p==0.10.4.dev65+gabd1f66.d20240306) (1.3.0)\n",
      "Requirement already satisfied: llvmlite<0.41,>=0.40.0dev0 in /usr/local/lib/python3.9/site-packages (from numba>=0.43.1->suite2p==0.10.4.dev65+gabd1f66.d20240306) (0.40.1)\n",
      "Requirement already satisfied: filelock in /usr/local/lib/python3.9/site-packages (from torch>=1.7.1->suite2p==0.10.4.dev65+gabd1f66.d20240306) (3.12.2)\n",
      "Requirement already satisfied: typing-extensions in /usr/local/lib/python3.9/site-packages (from torch>=1.7.1->suite2p==0.10.4.dev65+gabd1f66.d20240306) (4.7.1)\n",
      "Requirement already satisfied: sympy in /usr/local/lib/python3.9/site-packages (from torch>=1.7.1->suite2p==0.10.4.dev65+gabd1f66.d20240306) (1.12)\n",
      "Requirement already satisfied: networkx in /usr/local/lib/python3.9/site-packages (from torch>=1.7.1->suite2p==0.10.4.dev65+gabd1f66.d20240306) (3.1)\n",
      "Requirement already satisfied: jinja2 in /usr/local/lib/python3.9/site-packages (from torch>=1.7.1->suite2p==0.10.4.dev65+gabd1f66.d20240306) (3.1.2)\n",
      "Requirement already satisfied: nvidia-cuda-nvrtc-cu11==11.7.99 in /usr/local/lib/python3.9/site-packages (from torch>=1.7.1->suite2p==0.10.4.dev65+gabd1f66.d20240306) (11.7.99)\n",
      "Requirement already satisfied: nvidia-cuda-runtime-cu11==11.7.99 in /usr/local/lib/python3.9/site-packages (from torch>=1.7.1->suite2p==0.10.4.dev65+gabd1f66.d20240306) (11.7.99)\n",
      "Requirement already satisfied: nvidia-cuda-cupti-cu11==11.7.101 in /usr/local/lib/python3.9/site-packages (from torch>=1.7.1->suite2p==0.10.4.dev65+gabd1f66.d20240306) (11.7.101)\n",
      "Requirement already satisfied: nvidia-cudnn-cu11==8.5.0.96 in /usr/local/lib/python3.9/site-packages (from torch>=1.7.1->suite2p==0.10.4.dev65+gabd1f66.d20240306) (8.5.0.96)\n",
      "Requirement already satisfied: nvidia-cublas-cu11==11.10.3.66 in /usr/local/lib/python3.9/site-packages (from torch>=1.7.1->suite2p==0.10.4.dev65+gabd1f66.d20240306) (11.10.3.66)\n",
      "Requirement already satisfied: nvidia-cufft-cu11==10.9.0.58 in /usr/local/lib/python3.9/site-packages (from torch>=1.7.1->suite2p==0.10.4.dev65+gabd1f66.d20240306) (10.9.0.58)\n",
      "Requirement already satisfied: nvidia-curand-cu11==10.2.10.91 in /usr/local/lib/python3.9/site-packages (from torch>=1.7.1->suite2p==0.10.4.dev65+gabd1f66.d20240306) (10.2.10.91)\n",
      "Requirement already satisfied: nvidia-cusolver-cu11==11.4.0.1 in /usr/local/lib/python3.9/site-packages (from torch>=1.7.1->suite2p==0.10.4.dev65+gabd1f66.d20240306) (11.4.0.1)\n",
      "Requirement already satisfied: nvidia-cusparse-cu11==11.7.4.91 in /usr/local/lib/python3.9/site-packages (from torch>=1.7.1->suite2p==0.10.4.dev65+gabd1f66.d20240306) (11.7.4.91)\n",
      "Requirement already satisfied: nvidia-nccl-cu11==2.14.3 in /usr/local/lib/python3.9/site-packages (from torch>=1.7.1->suite2p==0.10.4.dev65+gabd1f66.d20240306) (2.14.3)\n",
      "Requirement already satisfied: nvidia-nvtx-cu11==11.7.91 in /usr/local/lib/python3.9/site-packages (from torch>=1.7.1->suite2p==0.10.4.dev65+gabd1f66.d20240306) (11.7.91)\n",
      "Requirement already satisfied: triton==2.0.0 in /usr/local/lib/python3.9/site-packages (from torch>=1.7.1->suite2p==0.10.4.dev65+gabd1f66.d20240306) (2.0.0)\n",
      "Requirement already satisfied: setuptools in /usr/local/lib/python3.9/site-packages (from nvidia-cublas-cu11==11.10.3.66->torch>=1.7.1->suite2p==0.10.4.dev65+gabd1f66.d20240306) (58.1.0)\n",
      "Requirement already satisfied: wheel in /usr/local/lib/python3.9/site-packages (from nvidia-cublas-cu11==11.10.3.66->torch>=1.7.1->suite2p==0.10.4.dev65+gabd1f66.d20240306) (0.40.0)\n",
      "Requirement already satisfied: cmake in /usr/local/lib/python3.9/site-packages (from triton==2.0.0->torch>=1.7.1->suite2p==0.10.4.dev65+gabd1f66.d20240306) (3.26.4)\n",
      "Requirement already satisfied: lit in /usr/local/lib/python3.9/site-packages (from triton==2.0.0->torch>=1.7.1->suite2p==0.10.4.dev65+gabd1f66.d20240306) (16.0.6)\n",
      "Requirement already satisfied: zipp>=0.5 in /usr/local/lib/python3.9/site-packages (from importlib-metadata->suite2p==0.10.4.dev65+gabd1f66.d20240306) (3.16.2)\n",
      "Requirement already satisfied: contourpy>=1.0.1 in /usr/local/lib/python3.9/site-packages (from matplotlib->suite2p==0.10.4.dev65+gabd1f66.d20240306) (1.1.0)\n",
      "Requirement already satisfied: cycler>=0.10 in /usr/local/lib/python3.9/site-packages (from matplotlib->suite2p==0.10.4.dev65+gabd1f66.d20240306) (0.11.0)\n",
      "Requirement already satisfied: fonttools>=4.22.0 in /usr/local/lib/python3.9/site-packages (from matplotlib->suite2p==0.10.4.dev65+gabd1f66.d20240306) (4.41.0)\n",
      "Requirement already satisfied: kiwisolver>=1.0.1 in /usr/local/lib/python3.9/site-packages (from matplotlib->suite2p==0.10.4.dev65+gabd1f66.d20240306) (1.4.4)\n",
      "Requirement already satisfied: packaging>=20.0 in /usr/local/lib/python3.9/site-packages (from matplotlib->suite2p==0.10.4.dev65+gabd1f66.d20240306) (23.1)\n",
      "Requirement already satisfied: pillow>=6.2.0 in /usr/local/lib/python3.9/site-packages (from matplotlib->suite2p==0.10.4.dev65+gabd1f66.d20240306) (10.0.0)\n",
      "Requirement already satisfied: pyparsing<3.1,>=2.3.1 in /usr/local/lib/python3.9/site-packages (from matplotlib->suite2p==0.10.4.dev65+gabd1f66.d20240306) (3.0.9)\n",
      "Requirement already satisfied: python-dateutil>=2.7 in /usr/local/lib/python3.9/site-packages (from matplotlib->suite2p==0.10.4.dev65+gabd1f66.d20240306) (2.8.2)\n",
      "Requirement already satisfied: importlib-resources>=3.2.0 in /usr/local/lib/python3.9/site-packages (from matplotlib->suite2p==0.10.4.dev65+gabd1f66.d20240306) (6.0.0)\n",
      "Requirement already satisfied: bcrypt>=3.2 in /usr/local/lib/python3.9/site-packages (from paramiko->suite2p==0.10.4.dev65+gabd1f66.d20240306) (4.0.1)\n",
      "Requirement already satisfied: cryptography>=3.3 in /usr/local/lib/python3.9/site-packages (from paramiko->suite2p==0.10.4.dev65+gabd1f66.d20240306) (41.0.2)\n",
      "Requirement already satisfied: pynacl>=1.5 in /usr/local/lib/python3.9/site-packages (from paramiko->suite2p==0.10.4.dev65+gabd1f66.d20240306) (1.5.0)\n",
      "Requirement already satisfied: joblib>=1.1.1 in /usr/local/lib/python3.9/site-packages (from scikit-learn->suite2p==0.10.4.dev65+gabd1f66.d20240306) (1.3.1)\n",
      "Requirement already satisfied: threadpoolctl>=2.0.0 in /usr/local/lib/python3.9/site-packages (from scikit-learn->suite2p==0.10.4.dev65+gabd1f66.d20240306) (3.2.0)\n",
      "Requirement already satisfied: cffi>=1.12 in /usr/local/lib/python3.9/site-packages (from cryptography>=3.3->paramiko->suite2p==0.10.4.dev65+gabd1f66.d20240306) (1.15.1)\n",
      "Requirement already satisfied: six>=1.5 in /usr/local/lib/python3.9/site-packages (from python-dateutil>=2.7->matplotlib->suite2p==0.10.4.dev65+gabd1f66.d20240306) (1.16.0)\n",
      "Requirement already satisfied: MarkupSafe>=2.0 in /usr/local/lib/python3.9/site-packages (from jinja2->torch>=1.7.1->suite2p==0.10.4.dev65+gabd1f66.d20240306) (2.1.3)\n",
      "Requirement already satisfied: mpmath>=0.19 in /usr/local/lib/python3.9/site-packages (from sympy->torch>=1.7.1->suite2p==0.10.4.dev65+gabd1f66.d20240306) (1.3.0)\n",
      "Requirement already satisfied: pycparser in /usr/local/lib/python3.9/site-packages (from cffi>=1.12->cryptography>=3.3->paramiko->suite2p==0.10.4.dev65+gabd1f66.d20240306) (2.21)\n",
      "Installing collected packages: suite2p\n",
      "  Attempting uninstall: suite2p\n",
      "    Found existing installation: suite2p 0.10.4.dev65+gabd1f66.d20240305\n",
      "    Uninstalling suite2p-0.10.4.dev65+gabd1f66.d20240305:\n",
      "      Successfully uninstalled suite2p-0.10.4.dev65+gabd1f66.d20240305\n",
      "  Running setup.py develop for suite2p\n",
      "Successfully installed suite2p-0.10.4.dev65+gabd1f66.d20240306\n",
      "\u001b[33mWARNING: Running pip as the 'root' user can result in broken permissions and conflicting behaviour with the system package manager. It is recommended to use a virtual environment instead: https://pip.pypa.io/warnings/venv\u001b[0m\u001b[33m\n",
      "\u001b[0m\n",
      "\u001b[1m[\u001b[0m\u001b[34;49mnotice\u001b[0m\u001b[1;39;49m]\u001b[0m\u001b[39;49m A new release of pip is available: \u001b[0m\u001b[31;49m23.2\u001b[0m\u001b[39;49m -> \u001b[0m\u001b[32;49m24.0\u001b[0m\n",
      "\u001b[1m[\u001b[0m\u001b[34;49mnotice\u001b[0m\u001b[1;39;49m]\u001b[0m\u001b[39;49m To update, run: \u001b[0m\u001b[32;49mpip install --upgrade pip\u001b[0m\n"
     ]
    }
   ],
   "source": [
    "!pip3 install -e /mnt/lab/users/maxgagnon/src/s2p-lbm/suite2p"
   ]
  },
  {
   "cell_type": "code",
   "execution_count": 1,
   "id": "f57652f9",
   "metadata": {},
   "outputs": [
    {
     "name": "stderr",
     "output_type": "stream",
     "text": [
      "/tmp/ipykernel_30534/4212160794.py:9: MatplotlibDeprecationWarning: The seaborn styles shipped by Matplotlib are deprecated since 3.6, as they no longer correspond to the styles shipped by seaborn. However, they will remain available as 'seaborn-v0_8-<style>'. Alternatively, directly use the seaborn API instead.\n",
      "  plt.style.use('seaborn')\n"
     ]
    }
   ],
   "source": [
    "%load_ext autoreload\n",
    "%autoreload 2\n",
    "\n",
    "import os \n",
    "import shutil\n",
    "import numpy as n\n",
    "from datetime import date\n",
    "from matplotlib import pyplot as plt\n",
    "plt.style.use('seaborn')\n",
    "import time\n",
    "import napari\n",
    "\n",
    "## !! CHANGE ME !! ##\n",
    "from suite2p.io import lbm as lbmio\n",
    "from suite2p.suite3d import utils, init_pass\n",
    "from suite2p.suite3d.job import Job\n",
    "from suite2p.suite3d import ui\n",
    "import suite2p\n",
    "\n",
    "os.chdir('/mnt/lab/users/maxgagnon/src/s2p-lbm')\n",
    "from utils import tiff_utils as tfu\n",
    "import numpy as np\n",
    "from skimage.io import imread"
   ]
  },
  {
   "attachments": {},
   "cell_type": "markdown",
   "id": "11148a9e",
   "metadata": {},
   "source": [
    "# 0. Set initial parameters"
   ]
  },
  {
   "cell_type": "code",
   "execution_count": 2,
   "id": "922a99e4-7c06-4697-9752-e703eefa2e9c",
   "metadata": {},
   "outputs": [
    {
     "data": {
      "text/plain": [
       "['/mnt/scratch11/vaziri_lbm_demo_scan/29513-1-8_00001_00031.tif']"
      ]
     },
     "execution_count": 2,
     "metadata": {},
     "output_type": "execute_result"
    }
   ],
   "source": [
    "# ~0 seconds\n",
    "\n",
    "## Find all the tiff files in the tif path\n",
    "\n",
    "# tif_path = r'/mnt/lab/users/maxgagnon/cache/LBM/ExampleData_Ali_2023_09_13'\n",
    "# tif_path = r'/mnt/lab/users/maxgagnon/cache/LBM/ExampleData_Ali/sample LBM data from s2p-lbm repo'\n",
    "tif_path = r'/mnt/scratch11/vaziri_lbm_demo_scan/'\n",
    "tifs = tfu.get_tif_paths(tif_path)\n",
    "tifs = [tifs[30]]\n",
    "tifs"
   ]
  },
  {
   "cell_type": "code",
   "execution_count": 4,
   "id": "5c62164a-4f37-470f-a83c-d3c4997b4362",
   "metadata": {},
   "outputs": [
    {
     "data": {
      "text/plain": [
       "{'fs': 5.93921,\n",
       " 'planes': array([ 0,  1,  2,  3,  4,  5,  6,  7,  8,  9, 10, 11, 12, 13, 14, 15, 16,\n",
       "        17, 18, 19, 20, 21, 22, 23, 24, 25, 26, 27, 28, 29]),\n",
       " 'tau': 1.3}"
      ]
     },
     "execution_count": 4,
     "metadata": {},
     "output_type": "execute_result"
    }
   ],
   "source": [
    "# Set the mandatory parameters\n",
    "params = {\n",
    "    # volume rate\n",
    "    'fs': tfu.get_vol_rate(tifs[0]),\n",
    "    # planes to analyze. 0 is deepest, 30 is shallowest (corrected for ScanImage channel IDs)\n",
    "    'planes' : n.arange(30),\n",
    "    # Decay time of the Ca indicator in seconds. 1.3 for GCaMP6s. This example is for GCamP8m\n",
    "    'tau' : 1.3}\n",
    "\n",
    "\n",
    "params"
   ]
  },
  {
   "cell_type": "code",
   "execution_count": 5,
   "id": "2b3e38e5",
   "metadata": {},
   "outputs": [
    {
     "name": "stdout",
     "output_type": "stream",
     "text": [
      "Job directory /mnt/lab/users/maxgagnon/cache/LBM/OurDataTesting/s3d-test_1 already exists\n",
      "Loading job directory for test_1 in /mnt/lab/users/maxgagnon/cache/LBM/OurDataTesting/\n",
      "   Loading dirs \n",
      "      Found dir registered_data\n",
      "      Found dir summary\n",
      "      Found dir iters\n",
      "   Loading default params\n",
      "      Updating param fs\n",
      "      Updating param planes\n",
      "      Updating param tau\n",
      "   Updated main params file\n"
     ]
    }
   ],
   "source": [
    "# Create the job\n",
    "job = Job('/mnt/lab/users/maxgagnon/cache/LBM/OurDataTesting/', \n",
    "          tifs = tifs,\n",
    "          params = params, \n",
    "          create = True, \n",
    "          overwrite = True, \n",
    "          verbosity = 3,\n",
    "          job_id = 'test_1')\n",
    "\n",
    "\n",
    "# optional parameters for initialization\n",
    "# load 1 file to initialize, and select 200 frames randomly to do initalization on\n",
    "job.params['n_init_files']  = 1\n",
    "job.params['init_n_frames'] = 200\n",
    "\n",
    "\n",
    "# Set to None to auto-compute the crosstalk coefficient\n",
    "# You can set a float value between 0-1 (usually around 0.1-0.3) to override the calculation\n",
    "job.params['override_crosstalk'] = .2"
   ]
  },
  {
   "cell_type": "markdown",
   "id": "6e604653",
   "metadata": {},
   "source": [
    "# 0. Print metadata about tiffs"
   ]
  },
  {
   "cell_type": "code",
   "execution_count": null,
   "id": "e1c3ff34-3d73-46dd-8d15-a779d59c9f95",
   "metadata": {},
   "outputs": [
    {
     "name": "stdout",
     "output_type": "stream",
     "text": [
      "   Saved a copy of params at /mnt/lab/users/maxgagnon/cache/LBM/OurDataTesting/s3d-test_1/summary\n",
      "   Updated main params file\n",
      "Launching initial pass\n",
      "Saving summary to /mnt/lab/users/maxgagnon/cache/LBM/OurDataTesting/s3d-test_1/summary/summary.npy\n",
      "Loading /mnt/scratch11/vaziri_lbm_demo_scan/29513-1-8_00001_00031.tif\n"
     ]
    },
    {
     "name": "stderr",
     "output_type": "stream",
     "text": [
      "<tifffile.TiffFile '29513-1-8_00001_00031.tif'> asarray failed to reshape (24120, 4024, 146) to (50000, 30, 4024, 146)\n"
     ]
    }
   ],
   "source": [
    "job.run_init_pass()"
   ]
  },
  {
   "cell_type": "code",
   "execution_count": null,
   "id": "6ef7c808",
   "metadata": {},
   "outputs": [
    {
     "name": "stdout",
     "output_type": "stream",
     "text": [
      "Loading /mnt/scratch11/vaziri_lbm_demo_scan/29513-1-8_00001_00031.tif\n"
     ]
    },
    {
     "name": "stderr",
     "output_type": "stream",
     "text": [
      "<tifffile.TiffFile '29513-1-8_00001_00031.tif'> asarray failed to reshape (24120, 4024, 146) to (50000, 30, 4024, 146)\n"
     ]
    }
   ],
   "source": [
    "init_tifs = init_pass.choose_init_tifs(tifs, \n",
    "                                       job.params['n_init_files'], \n",
    "                                       job.params['init_file_pool'], \n",
    "                                       job.params['init_file_sample_method'])\n",
    "\n",
    "n_ch_tif = job.params.get('n_ch_tif', 30)\n",
    "\n",
    "init_mov = init_pass.load_init_tifs(init_tifs, \n",
    "                                    job.params['planes'], \n",
    "                                    job.params['notch_filt'], \n",
    "                                    n_ch_tif = n_ch_tif,\n",
    "                                    convert_plane_ids_to_channel_ids = job.params.get('convert_plane_ids_to_channel_ids', True))\n",
    "                                    "
   ]
  },
  {
   "cell_type": "code",
   "execution_count": null,
   "id": "484fc7fb",
   "metadata": {},
   "outputs": [],
   "source": [
    "nz, nt, ny, nx = init_mov.shape\n",
    "print(f'nt size: {nt}')\n",
    "print(f\"init_n_frames size: {job.params['init_n_frames']}\")\n",
    "\n",
    "print(init_mov.shape)"
   ]
  },
  {
   "attachments": {},
   "cell_type": "markdown",
   "id": "1d7f2c88",
   "metadata": {},
   "source": [
    "# 1. Initialization"
   ]
  },
  {
   "cell_type": "code",
   "execution_count": null,
   "id": "c5310b6e",
   "metadata": {
    "scrolled": true
   },
   "outputs": [],
   "source": [
    "# ~33 Minutes\n",
    "job.run_init_pass()"
   ]
  },
  {
   "attachments": {},
   "cell_type": "markdown",
   "id": "8abbfc1f",
   "metadata": {},
   "source": [
    "### How'd Registration go?"
   ]
  },
  {
   "cell_type": "code",
   "execution_count": null,
   "id": "3806bda7",
   "metadata": {},
   "outputs": [],
   "source": [
    "job.show_summary_plots()"
   ]
  },
  {
   "cell_type": "code",
   "execution_count": null,
   "id": "7c80fa3f",
   "metadata": {},
   "outputs": [],
   "source": [
    "# summary_dir = '/mnt/lab/users/maxgagnon/cache/LBM/ExampleData_Ali_2023_09_13/s3d-test_1/summary'\n",
    "summary_dir = '/mnt/lab/users/maxgagnon/cache/LBM/OurDataTesting/s3d-test_1/summary'\n",
    "summary = n.load(summary_dir + '/summary.npy', allow_pickle=True)\n",
    "summary = summary.item()"
   ]
  },
  {
   "cell_type": "code",
   "execution_count": null,
   "id": "53763e41",
   "metadata": {},
   "outputs": [],
   "source": [
    "print(summary.keys())\n",
    "print(f\"----------\\ncrosstalk_coeff: {summary['crosstalk_coeff']}\")\n",
    "print(f\"----------\\nplane_shifts: \\n{summary['plane_shifts']}\")\n",
    "print(f\"----------\\nmin_pix_vals: \\n{summary['min_pix_vals']}\")\n",
    "# print(summary['plane_shifts'])"
   ]
  },
  {
   "attachments": {},
   "cell_type": "markdown",
   "id": "22bf33f3",
   "metadata": {},
   "source": [
    "Raw Images"
   ]
  },
  {
   "cell_type": "code",
   "execution_count": null,
   "id": "bf621dd5",
   "metadata": {},
   "outputs": [],
   "source": [
    "fig, ax = plt.subplots(5,6, figsize=(20,20))\n",
    "ax = ax.flatten()\n",
    "for idx, a in enumerate(ax):\n",
    "    a.imshow(summary['raw_img'][idx,:,:], 'viridis')\n",
    "    a.set_yticks([])\n",
    "    a.set_xticks([])"
   ]
  },
  {
   "attachments": {},
   "cell_type": "markdown",
   "id": "9832432c",
   "metadata": {},
   "source": [
    "Images"
   ]
  },
  {
   "cell_type": "code",
   "execution_count": null,
   "id": "6a2f0d78",
   "metadata": {},
   "outputs": [],
   "source": [
    "fig, ax = plt.subplots(5,6, figsize=(20,20))\n",
    "ax = ax.flatten()\n",
    "for idx, a in enumerate(ax):\n",
    "    a.imshow(summary['img'][idx,:,:], 'viridis')\n",
    "    a.set_yticks([])\n",
    "    a.set_xticks([])"
   ]
  },
  {
   "attachments": {},
   "cell_type": "markdown",
   "id": "6e30e608",
   "metadata": {},
   "source": [
    "Unaligned Reference Images"
   ]
  },
  {
   "cell_type": "code",
   "execution_count": null,
   "id": "60675c54",
   "metadata": {},
   "outputs": [],
   "source": [
    "fig, ax = plt.subplots(5,6, figsize=(20,20))\n",
    "ax = ax.flatten()\n",
    "for idx, a in enumerate(ax):\n",
    "    a.imshow(summary['ref_img_3d_unaligned'][idx,:,:], 'viridis')\n",
    "    a.set_yticks([])\n",
    "    a.set_xticks([])"
   ]
  },
  {
   "attachments": {},
   "cell_type": "markdown",
   "id": "38fc9c91",
   "metadata": {},
   "source": [
    "Aligned Reference Images"
   ]
  },
  {
   "cell_type": "code",
   "execution_count": null,
   "id": "83807a2f",
   "metadata": {},
   "outputs": [],
   "source": [
    "fig, ax = plt.subplots(5,6, figsize=(20,20))\n",
    "ax = ax.flatten()\n",
    "for idx, a in enumerate(ax):\n",
    "    a.imshow(summary['ref_img_3d'][idx,:,:], 'viridis')\n",
    "    a.set_yticks([])\n",
    "    a.set_xticks([])"
   ]
  },
  {
   "attachments": {},
   "cell_type": "markdown",
   "id": "27d743ee",
   "metadata": {},
   "source": [
    "# 2. Registration and Fusion\n",
    "- Suite2p Registration\n",
    "- Speedup: Pipeline file I/O and computation (you don't have to transfer all your files to local storage)\n",
    "- Accounts for plane shifts\n",
    "- Fuses the strips"
   ]
  },
  {
   "attachments": {},
   "cell_type": "markdown",
   "id": "81e3abaa",
   "metadata": {},
   "source": [
    "Parameters"
   ]
  },
  {
   "cell_type": "code",
   "execution_count": null,
   "id": "d45d99a0",
   "metadata": {},
   "outputs": [],
   "source": [
    "# split the large tiffs into files of size 100 after registration\n",
    "job.params['split_tif_size'] = 100\n",
    "\n",
    "# FUSING: fuse the strips from the FOV into one image\n",
    "# this is the number of pixels to skip between pixels, 13 makes it look relatively smooth\n",
    "job.params['n_skip'] = 13\n",
    "\n",
    "# should only fuse files where the plane_shifts look good, otherwise you might get an error\n",
    "job.params['fuse_crop'] = ((0,22), (0,584), (0,584))"
   ]
  },
  {
   "attachments": {},
   "cell_type": "markdown",
   "id": "a3593583",
   "metadata": {},
   "source": [
    "Registration"
   ]
  },
  {
   "cell_type": "code",
   "execution_count": null,
   "id": "e465e68a",
   "metadata": {},
   "outputs": [],
   "source": [
    "# ~6 minutes\n",
    "job.register()"
   ]
  },
  {
   "attachments": {},
   "cell_type": "markdown",
   "id": "6aa2b7dd",
   "metadata": {},
   "source": [
    "Fuse the registered sections"
   ]
  },
  {
   "cell_type": "code",
   "execution_count": null,
   "id": "be09931e",
   "metadata": {},
   "outputs": [],
   "source": [
    "# ~2 minutes\n",
    "job.fuse_registered_movie(n_proc=1)"
   ]
  },
  {
   "cell_type": "code",
   "execution_count": null,
   "id": "1729a0af",
   "metadata": {},
   "outputs": [],
   "source": [
    "# ~40 seconds\n",
    "mov_full = job.get_registered_movie('registered_fused_data', 'fused')\n",
    "im_full = mov_full[:,:1000].mean(axis=1).compute()"
   ]
  },
  {
   "cell_type": "code",
   "execution_count": null,
   "id": "732f618a",
   "metadata": {},
   "outputs": [],
   "source": [
    "mov_full[:,:1000]"
   ]
  },
  {
   "cell_type": "code",
   "execution_count": null,
   "id": "fb39a0d0",
   "metadata": {},
   "outputs": [],
   "source": [
    "print(mov_full.shape)\n",
    "print(im_full.shape)"
   ]
  },
  {
   "attachments": {},
   "cell_type": "markdown",
   "id": "5d77570d",
   "metadata": {},
   "source": [
    "Figures"
   ]
  },
  {
   "cell_type": "code",
   "execution_count": null,
   "id": "ef73ae8e",
   "metadata": {},
   "outputs": [],
   "source": [
    "fig, ax = plt.subplots(5,6, figsize=(15,15))\n",
    "ax = ax.flatten()\n",
    "for idx, a in enumerate(ax):\n",
    "    a.imshow(im_full[idx], 'viridis')\n",
    "    a.set_yticks([])\n",
    "    a.set_xticks([])"
   ]
  },
  {
   "attachments": {},
   "cell_type": "markdown",
   "id": "c26d4675",
   "metadata": {},
   "source": [
    "# 3. SVD Denoising"
   ]
  },
  {
   "attachments": {},
   "cell_type": "markdown",
   "id": "ff0f4707",
   "metadata": {},
   "source": [
    "Parameters"
   ]
  },
  {
   "cell_type": "code",
   "execution_count": null,
   "id": "71434d39",
   "metadata": {},
   "outputs": [],
   "source": [
    "job.params['n_svd_comp'] = 500\n",
    "job.params['svd_crop'] = ((0,22), (55,584), (0, 460))\n",
    "job.params['svd_block_shape'] = (4,200,200)\n",
    "job.params['svd_block_overlaps'] = (2,100,100)\n",
    "svd_dir_tag = 'svd_cropped'"
   ]
  },
  {
   "attachments": {},
   "cell_type": "markdown",
   "id": "79a74333",
   "metadata": {},
   "source": [
    "svd"
   ]
  },
  {
   "cell_type": "code",
   "execution_count": null,
   "id": "b3565b07",
   "metadata": {},
   "outputs": [],
   "source": [
    "job.make_new_dir(svd_dir_tag)\n",
    "svd_info = job.svd_decompose_movie(svd_dir_tag, run_svd=True)"
   ]
  },
  {
   "cell_type": "code",
   "execution_count": null,
   "id": "d06ca385",
   "metadata": {},
   "outputs": [],
   "source": [
    "# if 'job.dirs[svd_dir_tag]' in locals() and os.path.exists(job.dirs[svd_dir_tag] + '/svd_info.npy'):\n",
    "if 'svd_dir_tag' in job.dirs:\n",
    "    print(f\"Existing file found: {os.path.join(job.dirs[svd_dir_tag], 'svd_info.npy')}\")\n",
    "    svd_info = n.load(os.path.join(job.dirs[svd_dir_tag], 'svd_info.npy'),allow_pickle=True).item()\n",
    "else:\n",
    "    # ~ 1 hour\n",
    "    print('Existing file NOT found; Creating new svd_info. This process takes ~ 1 hour')\n",
    "    job.make_new_dir(svd_dir_tag)\n",
    "    svd_info = job.svd_decompose_movie(svd_dir_tag, run_svd=True)"
   ]
  },
  {
   "cell_type": "code",
   "execution_count": null,
   "id": "321571a5",
   "metadata": {},
   "outputs": [],
   "source": [
    "print(svd_info.keys())\n",
    "print(f\"n_blocks: {svd_info['n_blocks']}\")\n",
    "print(f\"block_shape: {svd_info['block_shape']}\")\n",
    "print(f\"block_overlaps: {svd_info['block_overlaps']}\")\n",
    "# print(f\"blocks: {svd_info['blocks']}\")\n",
    "print(f\"grid_shape: {svd_info['grid_shape']}\")\n",
    "print(f\"mov_shape: {svd_info['mov_shape']}\")\n",
    "print(f\"n_comps: {svd_info['n_comps']}\")\n",
    "print(f\"svd_dirs: {svd_info['svd_dirs']}\")"
   ]
  },
  {
   "attachments": {},
   "cell_type": "markdown",
   "id": "a8cb5f14",
   "metadata": {},
   "source": [
    "# 4. Correlation Map (Sweep through correlation map parameters)\n",
    "Steps:\n",
    "1. Temporal High-Pass Filter\n",
    "2. Normalize Pixel intensity\n",
    "3. Remove neuropil & highlight cells w/ spatial filters\n",
    "4. Threshold filtered activity to include only calcium events\n",
    "5. Accumulate over time to calculate correlation map"
   ]
  },
  {
   "cell_type": "code",
   "execution_count": null,
   "id": "d2b503af",
   "metadata": {},
   "outputs": [],
   "source": [
    "# Parameters\n",
    "job.params['t_batch_size'] = 400\n",
    "job.params['n_proc_corr'] = 8\n",
    "job.params['n_svd_comps'] = 200\n",
    "job.params['intensity_thresh'] = 0.25\n",
    "\n",
    "params_to_sweep = {\n",
    "                    'intensity_thresh' : (0.25, 0.4),\n",
    "                    'n_svd_comp' : (200,300,400),\n",
    "                }"
   ]
  },
  {
   "cell_type": "code",
   "execution_count": null,
   "id": "e1c69345",
   "metadata": {},
   "outputs": [],
   "source": [
    "# if 'job.dirs[sweep-01]' in locals() and os.path.exists(job.dirs['sweep-01']+ '/sweep_summary.npy'):\n",
    "if  os.path.exists(job.dirs['sweep-01']+ '/sweep_summary.npy'):\n",
    "    print(f\"Existing file found: {os.path.join(job.dirs['sweep-01'], 'sweep_summary.npy')}\")\n",
    "    sweep_summary = n.load(os.path.join(job.dirs['sweep-01'], 'sweep_summary.npy'),allow_pickle=True).item()\n",
    "else:\n",
    "    # ~ 8 minutes\n",
    "    print('Existing file NOT found; Creating new sweep_summary. This process takes ~ 10 Minutes')\n",
    "    sweep_summary = job.sweep_params(params_to_sweep, \n",
    "                                    svd_info,\n",
    "                                    testing_dir_tag = 'sweep-01',\n",
    "                                    do_vmap = True, \n",
    "                                    all_combinations = True, \n",
    "                                    n_test_iters = 1)"
   ]
  },
  {
   "cell_type": "code",
   "execution_count": null,
   "id": "04eab505",
   "metadata": {},
   "outputs": [],
   "source": [
    "sweep_summary = job.sweep_params(params_to_sweep, \n",
    "                                svd_info,\n",
    "                                testing_dir_tag = 'sweep-01',\n",
    "                                do_vmap = True, \n",
    "                                all_combinations = True, \n",
    "                                n_test_iters = 1)"
   ]
  },
  {
   "cell_type": "code",
   "execution_count": null,
   "id": "0f27d976",
   "metadata": {},
   "outputs": [],
   "source": [
    "# PLOT: a slice of the image stack for each of the (4) vmaps param options. What should I be looking for here?\n",
    "print(np.asarray(sweep_summary['vmaps']).shape)\n",
    "fig, ax = plt.subplots(2,2,figsize=(10,10))\n",
    "ax = ax.flatten()\n",
    "for idx, a in enumerate(ax):\n",
    "    a.imshow(np.asarray(sweep_summary['vmaps'])[idx,2,:,:], 'viridis')"
   ]
  },
  {
   "cell_type": "code",
   "execution_count": null,
   "id": "fa1e2552",
   "metadata": {},
   "outputs": [],
   "source": [
    "job.params['intensity_thresh'] = 0.4\n",
    "job.params['n_svd_comps'] = 300\n",
    "job.params['t_batch_size'] = 300"
   ]
  },
  {
   "cell_type": "code",
   "execution_count": null,
   "id": "1bcd2e4c",
   "metadata": {},
   "outputs": [],
   "source": [
    "vmap, mean_img, max_img = job.calculate_corr_map(mov = svd_info)"
   ]
  },
  {
   "attachments": {},
   "cell_type": "markdown",
   "id": "0b8029e1",
   "metadata": {},
   "source": [
    "# 5. Detect, Extract & Visualize masks\n",
    "- Choose a threshold in the correlation map\n",
    "- Generally robust and fast! Easy to test out on small samples (can implement easy itnerface for parameter sweep)\n",
    "- Uses 'mov_sub' - temporary filtered movie from corr-map calculation"
   ]
  },
  {
   "cell_type": "code",
   "execution_count": null,
   "id": "7666c602",
   "metadata": {},
   "outputs": [],
   "source": [
    "sweep_summary = n.load(os.path.join(job.dirs['sweep-01'], 'sweep_summary.npy'),allow_pickle=True).item()"
   ]
  },
  {
   "cell_type": "code",
   "execution_count": null,
   "id": "5e4ba7c9",
   "metadata": {},
   "outputs": [],
   "source": [
    "job.params['detection_timebin'] = 1 \n",
    "job.params['detection_time_crop'] = (None,None)\n",
    "job.params['max_pix'] = 250\n",
    "job.params['peak_thresh'] = 5.8\n",
    "job.params['percentile'] = 99.0\n",
    "job.params['max_iter'] = 10000 # maximum number of ROIs detected in given patch"
   ]
  },
  {
   "cell_type": "code",
   "execution_count": null,
   "id": "d853da23",
   "metadata": {},
   "outputs": [],
   "source": [
    "# ~ 21 minutes\n",
    "combined_dir = job.patch_and_detect(combined_name='combined-full')"
   ]
  },
  {
   "attachments": {},
   "cell_type": "markdown",
   "id": "b95c6270",
   "metadata": {},
   "source": [
    "### Deconvolution & Traces"
   ]
  },
  {
   "cell_type": "code",
   "execution_count": null,
   "id": "df6c2eb2",
   "metadata": {},
   "outputs": [],
   "source": [
    "# ~ 22 seconds\n",
    "traces = job.extract_and_deconvolve(stats_dir = combined_dir)\n",
    "traces"
   ]
  },
  {
   "cell_type": "code",
   "execution_count": null,
   "id": "7a3579e7",
   "metadata": {},
   "outputs": [],
   "source": [
    "np.random.choice(np.arange(traces['F'].shape[0]),1)"
   ]
  },
  {
   "cell_type": "code",
   "execution_count": null,
   "id": "3ee4de9e",
   "metadata": {},
   "outputs": [],
   "source": [
    "traces['F'].shape"
   ]
  },
  {
   "cell_type": "code",
   "execution_count": null,
   "id": "db192032",
   "metadata": {},
   "outputs": [],
   "source": [
    "# Plot Traces\n",
    "traces['F'].shape\n",
    "fig, ax = plt.subplots(3,1,figsize=(20,20))\n",
    "ax = ax.flatten()\n",
    "\n",
    "all = 1\n",
    "neuron2plot = np.random.choice(np.arange(traces['F'].shape[0]),1)[0]\n",
    "\n",
    "if all:\n",
    "    f = ax[0].plot(traces['F'])\n",
    "    f = ax[1].plot(traces['Fneu'])\n",
    "    f = ax[2].plot(traces['spks'])\n",
    "else:\n",
    "    f = ax[0].plot(traces['F'][neuron2plot,:])\n",
    "    f = ax[1].plot(traces['Fneu'][neuron2plot,:])\n",
    "    f = ax[2].plot(traces['spks'][neuron2plot,:])\n",
    "\n",
    "    \n",
    "ax[0].set_title('F')\n",
    "# ax[0].set_ylim([-10, 500])\n",
    "ax[1].set_title('Fneu')\n",
    "# ax[1].set_ylim([-10, 250])\n",
    "ax[2].set_title('spks')\n",
    "# ax[2].set_ylim([-10, 200])\n",
    "\n",
    "print(f\"Neuron: {neuron2plot}\")"
   ]
  },
  {
   "cell_type": "code",
   "execution_count": null,
   "id": "74e9e898-11ca-4629-9462-501ab85943f9",
   "metadata": {},
   "outputs": [],
   "source": []
  }
 ],
 "metadata": {
  "kernelspec": {
   "display_name": "Python 3 (ipykernel)",
   "language": "python",
   "name": "python3"
  },
  "language_info": {
   "codemirror_mode": {
    "name": "ipython",
    "version": 3
   },
   "file_extension": ".py",
   "mimetype": "text/x-python",
   "name": "python",
   "nbconvert_exporter": "python",
   "pygments_lexer": "ipython3",
   "version": "3.9.17"
  }
 },
 "nbformat": 4,
 "nbformat_minor": 5
}
