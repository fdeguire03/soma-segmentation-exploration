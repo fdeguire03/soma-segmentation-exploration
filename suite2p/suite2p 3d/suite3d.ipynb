{
 "cells": [
  {
   "cell_type": "code",
   "execution_count": 4,
   "id": "cd0813e0-4ebd-4fe1-a213-218a79ee4514",
   "metadata": {},
   "outputs": [],
   "source": [
    "from suite2p.suite3d.job import Job\n",
    "from suite2p.io import lbm as lbmio\n",
    "from suite2p.suite3d import utils, init_pass\n",
    "from suite2p.suite3d import ui\n",
    "import suite2p\n",
    "#from suite2p.suite3d.utils import tiff_utils as tfu"
   ]
  },
  {
   "cell_type": "code",
   "execution_count": null,
   "id": "c2007af2-075f-4d8b-92db-40d485bc6a79",
   "metadata": {},
   "outputs": [],
   "source": []
  }
 ],
 "metadata": {
  "kernelspec": {
   "display_name": "Python 3 (ipykernel)",
   "language": "python",
   "name": "python3"
  },
  "language_info": {
   "codemirror_mode": {
    "name": "ipython",
    "version": 3
   },
   "file_extension": ".py",
   "mimetype": "text/x-python",
   "name": "python",
   "nbconvert_exporter": "python",
   "pygments_lexer": "ipython3",
   "version": "3.9.17"
  }
 },
 "nbformat": 4,
 "nbformat_minor": 5
}
